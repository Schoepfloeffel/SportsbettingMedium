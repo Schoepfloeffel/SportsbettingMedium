{
 "cells": [
  {
   "cell_type": "markdown",
   "metadata": {},
   "source": [
    "# Going Against the Odds"
   ]
  },
  {
   "cell_type": "markdown",
   "metadata": {},
   "source": [
    "The notebook is divided into following parts.\n",
    "1. [Loading Data](#1-loading-the-data)\n",
    "2. [Describing the Dataset](#2-describing-the-dataset)\n",
    "3. [Descriptive Statistics for Odds](#3-descriptive-statistics-for-odds)\n",
    "4. [Margin and Expected Return](#4-margin-and-expected-return)\n",
    "5. [Monte Carlo Experiments and Strategies](#5-monte-carlo-experiments-and-strategies)"
   ]
  },
  {
   "cell_type": "markdown",
   "metadata": {},
   "source": [
    "<br><br><br>\n",
    "## 0. Imports"
   ]
  },
  {
   "cell_type": "code",
   "execution_count": null,
   "metadata": {},
   "outputs": [],
   "source": [
    "import os\n",
    "import sys\n",
    "\n",
    "current_directory = os.getcwd()\n",
    "sys.path.append(current_directory)\n",
    "\n",
    "from pathlib import Path\n",
    "\n",
    "import numpy as np\n",
    "import pandas as pd\n",
    "import seaborn as sns\n",
    "import seaborn.objects as so\n",
    "from numba import jit\n",
    "from tabulate import tabulate\n",
    "\n",
    "from plot_help_func.plot_heatmap_goals import plot_heatmap_goals\n",
    "from _constants.data_constants import Bookie, Country, Market\n",
    "from _utils import filters, plotters, slicers\n",
    "from logger import LOGGER"
   ]
  },
  {
   "cell_type": "code",
   "execution_count": null,
   "metadata": {},
   "outputs": [],
   "source": [
    "# For jupyter notebooks we set widget and interactivity off. You should run this cell if you want to plot within the notebooks. On default the Qt5Agg Engine is used with interactivity on, which should plot an external figure.\n",
    "import matplotlib.pyplot as plt\n",
    "\n",
    "%matplotlib widget\n",
    "plt.ioff()"
   ]
  },
  {
   "cell_type": "markdown",
   "metadata": {},
   "source": [
    "<br><br><br>\n",
    "## 1. Loading the Data"
   ]
  },
  {
   "cell_type": "code",
   "execution_count": null,
   "metadata": {},
   "outputs": [],
   "source": [
    "country = \"Germany\"\n",
    "os.environ[\"path\"] = f\"{country}.parquet\"\n",
    "path = os.environ.get(\"path\")  # read in the path to the your dataset\n",
    "df = pd.read_parquet(path, engine=\"pyarrow\")"
   ]
  },
  {
   "cell_type": "markdown",
   "metadata": {},
   "source": [
    "<br><br><br>\n",
    "## 2. Describing the Dataset"
   ]
  },
  {
   "cell_type": "code",
   "execution_count": null,
   "metadata": {},
   "outputs": [],
   "source": [
    "# ---- Init filter, plotters and slicers\n",
    "filter_context = filters.ContextFilter()\n",
    "slicer_context = slicers.ContextSlicer()\n",
    "\n",
    "# ---- Descriptive stats of dataframe and info columns\n",
    "LOGGER.info(\"Here is some information of the dataframe...\")\n",
    "info = {\n",
    "    \"Countries\": list(df.country_oddsportal.dropna().unique()),\n",
    "    \"Dimensions\": [df.shape],\n",
    "    \"Match entries from oddsportal\": [df.country_oddsportal.notnull().sum()],\n",
    "    \"Match entries from sofascore\": [df.country_sofascore.notnull().sum()],\n",
    "    \"Successful merge of oddsportal+sofascore\": [\n",
    "        (df.country_oddsportal.notnull() & df.country_sofascore.notnull()).sum()\n",
    "    ],\n",
    "    \"Date range of match entries oddsportal\": [\n",
    "        df.agg({\"date_oddsportal\": [\"min\", \"max\"]})[\"date_oddsportal\"]\n",
    "        .astype(str)\n",
    "        .tolist()\n",
    "    ],\n",
    "    \"Date range of match entries sofascore\": [\n",
    "        df.agg({\"date_sofascore\": [\"min\", \"max\"]})[\"date_sofascore\"]\n",
    "        .astype(str)\n",
    "        .tolist()\n",
    "    ],\n",
    "    \"Leagues from oddsportal, N matches\": [\n",
    "        df.league_oddsportal.value_counts().to_string()\n",
    "    ],\n",
    "    \"Leagues from sofascore, N matches\": [\n",
    "        df.league_sofascore.value_counts().to_string()\n",
    "    ],\n",
    "}\n",
    "df_info = pd.DataFrame.from_dict(info, orient=\"index\", columns=[\"Information\"])\n",
    "print(tabulate(df_info, headers=\"keys\", tablefmt=\"fancy_grid\"))"
   ]
  },
  {
   "cell_type": "code",
   "execution_count": null,
   "metadata": {},
   "outputs": [],
   "source": [
    "df.head(10)"
   ]
  },
  {
   "cell_type": "markdown",
   "metadata": {},
   "source": [
    "We now filter the merged dataset:\n",
    "We will use the *data_oddsportal* and *date_sofascore* column to see if we information from both sites. Odds information is from oddsportal, player related data, statistics etc is from sofascore. General information like results, teams or leagues are from both sites.\n",
    "- We only look at \"Ended\" matches which is signaled by the code 100 in the *status_code* column.\n",
    "- We will filter by the three leagues with the most information\n",
    "- We will only consider matches after 2008\n",
    "\n",
    "**NOTE: I use personal filter and slicing classes for the wide dataframe**"
   ]
  },
  {
   "cell_type": "code",
   "execution_count": null,
   "metadata": {},
   "outputs": [],
   "source": [
    "# ---- Filter Dataframe\n",
    "df_filtered = df  # df_filtered reference to df. CAREFUL! Operations on df_filtered might copy the data and hence eat a lot of RAM.\n",
    "df_filtered = df_filtered[\n",
    "    df_filtered[[\"date_oddsportal\", \"date_sofascore\"]]\n",
    "    .notnull()\n",
    "    .all(axis=1)  # Filter only by match entries where the merge was successful\n",
    "]"
   ]
  },
  {
   "cell_type": "code",
   "execution_count": null,
   "metadata": {},
   "outputs": [],
   "source": [
    "# Filter by status 100 (status 'Ended')\n",
    "filter_context.filter_strategy = filters.StatusFilter()\n",
    "df_filtered = filter_context.filtering(df_filtered, status_list=[100])"
   ]
  },
  {
   "cell_type": "code",
   "execution_count": null,
   "metadata": {},
   "outputs": [],
   "source": [
    "# Filter by the top three leagues. We search for the 3 biggest leagues where we have odds from the bookmaker \"bet365\". The values None, NaN, NaT, and optionally numpy.inf (depending on pandas.options.mode.use_inf_as_na) are considered NA.\n",
    "leagues = 3\n",
    "top_leagues = (\n",
    "    df_filtered.groupby(\"league_sofascore\")[\"bet365_1x2_1_open\"]\n",
    "    .count()\n",
    "    .nlargest(leagues)\n",
    ")"
   ]
  },
  {
   "cell_type": "code",
   "execution_count": null,
   "metadata": {},
   "outputs": [],
   "source": [
    "df_filtered = df_filtered[\n",
    "    df_filtered.league_sofascore.isin(top_leagues.index.to_list())\n",
    "]"
   ]
  },
  {
   "cell_type": "code",
   "execution_count": null,
   "metadata": {},
   "outputs": [],
   "source": [
    "# Filter date, get only match entries after 2008\n",
    "filter_context.filter_strategy = filters.DateFilter()\n",
    "df_filtered = filter_context.filtering(\n",
    "    df_filtered, date_start=pd.Timestamp(\"2008\"), date_end=pd.Timestamp(\"2024\")\n",
    ")"
   ]
  },
  {
   "cell_type": "code",
   "execution_count": null,
   "metadata": {},
   "outputs": [],
   "source": [
    "# We further narrow down the data per season. There is also some broken rows with \"liga\" within the season.\n",
    "df_filtered = df_filtered[~df_filtered[\"season\"].isin([\"2007/2008\", \"2022\", \"liga\"])]\n",
    "df_filtered.reset_index(drop=True, inplace=True)"
   ]
  },
  {
   "cell_type": "markdown",
   "metadata": {},
   "source": [
    "We now should have most matches during the regular season between 2008 and 2022 for Bundesliga 1-3.\n",
    "\n",
    "Let's start plotting to get a good overview of basic information."
   ]
  },
  {
   "cell_type": "code",
   "execution_count": null,
   "metadata": {},
   "outputs": [],
   "source": [
    "# ---- Plotting\n",
    "\n",
    "# 1. Number of matches per seasons\n",
    "plotter = (\n",
    "    plotters.PlotBuilder()\n",
    ")  # Own plotter class which leverages interactive plotting outside of notebooks with seaborn object API. You can also use seaborn, plotly or raw matplotlib.\n",
    "plotter.add_data(df_filtered)\n",
    "plotter.add_xdata(df_filtered.season)\n",
    "plotter.add_mark(so.Bar(), so.Count(), so.Dodge(), color=\"league_sofascore\")\n",
    "plotter.add_title(f\"Matches per season ({country})\")\n",
    "for container in plotter.axes.containers:\n",
    "    plotter.axes.bar_label(container, fmt=\"%.0f\")\n",
    "plotter.set_ylabel(\"Count\")\n",
    "plotter.set_ylim((0, 500))\n",
    "sns.move_legend(plotter.axes, \"lower center\")\n",
    "plotter.axes.get_legend().set_title(\"Leagues\")"
   ]
  },
  {
   "cell_type": "markdown",
   "metadata": {},
   "source": [
    "We have around the same number of matches each year. It seems in some years the merge did not work or information is missing.\n",
    "-  For 1. Bundesliga we see usually 308 matches\n",
    "-  For 2. Bundesliga we also see 308 matches\n",
    "-  In the 3. Bundesliga we have more teams resulting in 380 matches playes per season The season 2021/2022 for 3. Bundesliga was not finalized when I parsed the data."
   ]
  },
  {
   "cell_type": "code",
   "execution_count": null,
   "metadata": {},
   "outputs": [],
   "source": [
    "# ---- plot the distribution of goals as heatmap and display ratio of outcomes\n",
    "plot_heatmap_goals(df_filtered)\n",
    "plt.show()"
   ]
  },
  {
   "cell_type": "markdown",
   "metadata": {},
   "source": [
    "The \"home advantage\" can be seen clearly with the Home Team winning around 44% of games."
   ]
  },
  {
   "cell_type": "markdown",
   "metadata": {},
   "source": [
    "<br><br><br>\n",
    "## 3. Descriptive Statistics for Odds"
   ]
  },
  {
   "cell_type": "markdown",
   "metadata": {},
   "source": [
    "**NOTE: We use the *OddsSlicer* Class from *slicers* to get the odds from the wide dataframe**"
   ]
  },
  {
   "cell_type": "code",
   "execution_count": null,
   "metadata": {},
   "outputs": [],
   "source": [
    "slicer_context.slice_strategy = slicers.OddsSlicer()\n",
    "df_odds = slicer_context.slicing(\n",
    "    df_filtered,\n",
    "    bookmaker=[\"bet365\"],  # filter for bookmaker\n",
    "    odds_market=[\"1x2\"],  # filter for market\n",
    "    open_closed=[\"open\", \"closed\"],  # filter for time of odds\n",
    "    active=True,  # have an column \"active\" which shows if match was bettable\n",
    ")\n",
    "df_odds = df_odds[df_odds[\"bet365_1x2_active\"] == True]"
   ]
  },
  {
   "cell_type": "code",
   "execution_count": null,
   "metadata": {},
   "outputs": [],
   "source": [
    "df_odds.head(10)"
   ]
  },
  {
   "cell_type": "code",
   "execution_count": null,
   "metadata": {},
   "outputs": [],
   "source": [
    "df_odds_closed = df_odds.iloc[:, 1:4].melt(var_name=\"Outcome\", value_name=\"Odds\")\n",
    "df_odds_closed[\"Time\"] = \"Close\"\n",
    "df_odds_open = df_odds.iloc[:, 7:10].melt(var_name=\"Outcome\", value_name=\"Odds\")\n",
    "df_odds_open[\"Time\"] = \"Open\"\n",
    "df_odds_open_close = pd.concat([df_odds_open, df_odds_closed], axis=0).reset_index(\n",
    "    drop=True\n",
    ")"
   ]
  },
  {
   "cell_type": "code",
   "execution_count": null,
   "metadata": {},
   "outputs": [],
   "source": [
    "df_odds_open_close[\"Outcome\"] = df_odds_open_close[\"Outcome\"].str.split(\"_\").str[2]"
   ]
  },
  {
   "cell_type": "code",
   "execution_count": null,
   "metadata": {},
   "outputs": [],
   "source": [
    "g = sns.displot(\n",
    "    df_odds_open_close,\n",
    "    x=\"Odds\",\n",
    "    hue=\"Time\",\n",
    "    kind=\"kde\",\n",
    "    alpha=0.4,\n",
    "    col=\"Outcome\",\n",
    "    fill=True,\n",
    ")\n",
    "g.set(xlim=(1, 7), xticks=np.arange(1, 10, 0.5))\n",
    "for ax in g.axes.flatten():\n",
    "    ax.set_xticklabels(ax.get_xticklabels(), rotation=90)\n",
    "plt.show()"
   ]
  },
  {
   "cell_type": "code",
   "execution_count": null,
   "metadata": {},
   "outputs": [],
   "source": [
    "print(\n",
    "    tabulate(\n",
    "        df_odds_open_close.groupby([\"Outcome\", \"Time\"])[\"Odds\"].agg(\n",
    "            [\"mean\", \"median\", \"std\", \"skew\", pd.DataFrame.kurtosis]\n",
    "        ),\n",
    "        headers=\"keys\",\n",
    "        tablefmt=\"fancy_grid\",\n",
    "    )\n",
    ")"
   ]
  },
  {
   "cell_type": "markdown",
   "metadata": {},
   "source": [
    "<br><br><br>\n",
    "## 4. Margin and Expected Return"
   ]
  },
  {
   "cell_type": "markdown",
   "metadata": {},
   "source": [
    "We check the expected return for the bookmaker (hence the margin) to get a better grasp of the competition between bookmakers. We will check if we as a bettor are paying fees on average.\n",
    "\n",
    "- The margin is percentage by which the implied probability sum exceed 100%.\n",
    "- The expected return is the percentage of profit that the bookmaker will make on average.\n",
    "\n",
    "The margin is a function of the expected return and vice versa. We will focus on expected return, because this is ultimately the loss that we can assume as a bettor.\n"
   ]
  },
  {
   "cell_type": "code",
   "execution_count": null,
   "metadata": {},
   "outputs": [],
   "source": [
    "# ---- slice the odds for all bookies, open and close for the 1x2 market\n",
    "slicer_context.slice_strategy = slicers.OddsSlicer()\n",
    "df_odds = slicer_context.slicing(\n",
    "    df_filtered,\n",
    "    bookmaker=list(Bookie.BOOKIE),\n",
    "    odds_market=[\"1x2\"],\n",
    "    open_closed=[\"open\", \"closed\"],\n",
    "    active=True,\n",
    ")"
   ]
  },
  {
   "cell_type": "code",
   "execution_count": null,
   "metadata": {},
   "outputs": [],
   "source": [
    "# ---- slice the info for our filtered dataset\n",
    "slicer_context.slice_strategy = slicers.InfoSlicer()\n",
    "df_info = slicer_context.slicing(df_filtered)"
   ]
  },
  {
   "cell_type": "code",
   "execution_count": null,
   "metadata": {},
   "outputs": [],
   "source": [
    "df_info_and_odds = pd.concat([df_info, df_odds], axis=1)\n",
    "df_info_and_odds.iloc[:5, :40]"
   ]
  },
  {
   "cell_type": "code",
   "execution_count": null,
   "metadata": {},
   "outputs": [],
   "source": [
    "def calculate_expected_return(df, bookie, status):\n",
    "    slicer_context.slice_strategy = slicers.OddsSlicer()\n",
    "    df_odds = slicer_context.slicing(\n",
    "        df, bookmaker=bookie, odds_market=[\"1x2\"], open_closed=[status], active=True\n",
    "    )\n",
    "    df_odds_active = df_odds[df_odds[f\"{bookie}_1x2_active\"] == True]\n",
    "    return (1 - (df_odds_active.iloc[:, 1:4] ** -1).sum(axis=1) ** -1) * 100"
   ]
  },
  {
   "cell_type": "code",
   "execution_count": null,
   "metadata": {},
   "outputs": [],
   "source": [
    "# ---- calculate the expected return for each bookie\n",
    "df_exp_ret = {}\n",
    "for bookie in Bookie.BOOKIE:\n",
    "    df_exp_ret[f\"{bookie}_1x2_exp_ret_open\"] = calculate_expected_return(\n",
    "        df_info_and_odds, bookie, \"open\"\n",
    "    )\n",
    "    df_exp_ret[f\"{bookie}_1x2_exp_ret_closed\"] = calculate_expected_return(\n",
    "        df_info_and_odds, bookie, \"closed\"\n",
    "    )\n",
    "df_exp_ret = pd.concat(df_exp_ret, axis=1)"
   ]
  },
  {
   "cell_type": "code",
   "execution_count": null,
   "metadata": {},
   "outputs": [],
   "source": [
    "df_exp_ret.head(10)"
   ]
  },
  {
   "cell_type": "code",
   "execution_count": null,
   "metadata": {},
   "outputs": [],
   "source": [
    "df_exp_ret.describe()"
   ]
  },
  {
   "cell_type": "code",
   "execution_count": null,
   "metadata": {},
   "outputs": [],
   "source": [
    "df_info_and_exp_ret = pd.concat([df_info, df_exp_ret], axis=1)"
   ]
  },
  {
   "cell_type": "markdown",
   "metadata": {},
   "source": [
    "We check only a handful of bookmakers which are rather popular. We will filter the dataset at the end. So we can also plot more bookies if necessary."
   ]
  },
  {
   "cell_type": "code",
   "execution_count": null,
   "metadata": {},
   "outputs": [],
   "source": [
    "bookies_of_interest = [\n",
    "    \"bet365\",\n",
    "    \"10Bet\",\n",
    "    \"188BET\",\n",
    "    \"bet-at-home\",\n",
    "    \"Betsson\",\n",
    "    \"Betway\",\n",
    "    \"Interwetten\",\n",
    "    \"bwin\",\n",
    "    \"Unibet\",\n",
    "    \"NordicBet\",\n",
    "    \"Betsafe\",\n",
    "    \"Pinnacle\",\n",
    "    \"888sport\",\n",
    "    \"BetVictor\",\n",
    "    \"Betfred\",\n",
    "    \"William Hill\",\n",
    "]"
   ]
  },
  {
   "cell_type": "code",
   "execution_count": null,
   "metadata": {},
   "outputs": [],
   "source": [
    "# ---- melt the expected return dataframe\n",
    "df_exp_ret_long = pd.melt(\n",
    "    df_info_and_exp_ret,\n",
    "    id_vars=df_info.columns,\n",
    "    var_name=\"bookie\",\n",
    "    value_vars=df_exp_ret.columns,\n",
    "    value_name=\"exp_ret_perc\",\n",
    ")\n",
    "\n",
    "df_exp_ret_long[\"time\"] = df_exp_ret_long[\"bookie\"].str.extract(\n",
    "    r\"_(open|closed)\"\n",
    ")  # get time from bookie string\n",
    "df_exp_ret_long[\"bookie\"] = df_exp_ret_long[\"bookie\"].str.replace(\n",
    "    r\"_1x2_exp_ret_(open|closed)\", \"\", regex=True\n",
    ")  # replace now other infos from bookie string\n",
    "df_exp_ret_long = df_exp_ret_long[\n",
    "    df_exp_ret_long[\"bookie\"].isin(bookies_of_interest)\n",
    "]  # only bookies of interest"
   ]
  },
  {
   "cell_type": "code",
   "execution_count": null,
   "metadata": {},
   "outputs": [],
   "source": [
    "# ---- violinplot from with 25%, 50%, 75% quantiles for open & closed odds from bookies of interest\n",
    "# Note that some bookmakers have less data points regardings odds. Most bookies of interest have odds for >10000 matches.\n",
    "ax = sns.violinplot(\n",
    "    data=df_exp_ret_long,\n",
    "    x=\"bookie\",\n",
    "    y=\"exp_ret_perc\",\n",
    "    hue=\"time\",\n",
    "    kind=\"violin\",\n",
    "    bw_adjust=0.5,\n",
    "    split=True,\n",
    "    cut=0,\n",
    "    inner=\"quart\",\n",
    ")\n",
    "ax.set(ylabel=\"Expected Return [%]\", ylim=[0, 15])\n",
    "plt.show()"
   ]
  },
  {
   "cell_type": "code",
   "execution_count": null,
   "metadata": {},
   "outputs": [],
   "source": [
    "# ---- group by bookie, year and open/close\n",
    "df_exp_ret_long[\"Year\"] = df_exp_ret_long[\"date_sofascore\"].dt.year\n",
    "df_exp_ret_grouped = (\n",
    "    df_exp_ret_long.groupby([\"bookie\", \"Year\", \"time\"])[\"exp_ret_perc\"]\n",
    "    .mean()\n",
    "    .reset_index()\n",
    ")"
   ]
  },
  {
   "cell_type": "code",
   "execution_count": null,
   "metadata": {},
   "outputs": [],
   "source": [
    "plotter = plotters.PlotBuilder()\n",
    "plotter.add_xdata(df_exp_ret_grouped[\"Year\"])\n",
    "plotter.add_ydata(df_exp_ret_grouped[\"exp_ret_perc\"])\n",
    "plotter.add_data(df_exp_ret_grouped, linestyle=\"time\")\n",
    "plotter.add_mark(so.Line(), so.Agg(\"mean\"), color=\"bookie\")\n",
    "plotter.add_mark(so.Line(linewidth=3), so.PolyFit(order=3))\n",
    "plotter.set_ylabel(\"Expected Return [%]\")\n",
    "plotter.add_title(\"Expected Return 1x2 - Mean expected return of bookies over time\")\n",
    "plotter.set_scale(\n",
    "    x=so.Continuous().tick(every=1),\n",
    "    y=so.Continuous().tick(every=1),\n",
    ")\n",
    "plotter.axes.get_legend().set_title(\n",
    "    \"Mean expected return over Time for\", prop={\"size\": \"10\"}\n",
    ")\n",
    "sns.move_legend(plotter.axes, \"upper center\")"
   ]
  },
  {
   "cell_type": "markdown",
   "metadata": {},
   "source": [
    "The 3rd oder fitted line suggest a more competive market over time in the German 1x2 market.\n",
    "\n",
    "**NOTE: The payouts are dependent on liqudity, thus popularity. The country, league and betting market yield different margins/expected returns. I suggest that further analysis should involve a differentiation on league level and more statitics on deviation.**"
   ]
  },
  {
   "cell_type": "markdown",
   "metadata": {},
   "source": [
    "<br><br><br>\n",
    "## 5. Monte Carlo Experiments and Strategies"
   ]
  },
  {
   "cell_type": "markdown",
   "metadata": {},
   "source": [
    "Monte Carlo Experiments will show us what we can expect of random betting on the 1x2 German market between 2008 to 2022. This will give us insight in the following points:\n",
    "\n",
    "- Reference level which we compare our strategies against\n",
    "- Get a feeling how probable it is to have negative return after N bets"
   ]
  },
  {
   "cell_type": "markdown",
   "metadata": {},
   "source": [
    "What is the default setup?\n",
    "\n",
    "-  Bookmaker: bet365\n",
    "-  Leagues: 1. Bundesliga, 2. Bundesliga, 3. Bundesliga\n",
    "-  Market: 1x2 only\n",
    "-  Timeframe: season 2007/2008-2021/2022\n",
    "-  Bankroll: 10000$\n",
    "-  Stake per Match: 10$\n",
    "-  N random bets with replace: 1000"
   ]
  },
  {
   "cell_type": "code",
   "execution_count": null,
   "metadata": {},
   "outputs": [],
   "source": [
    "# ---- some configuration for the monte carlo\n",
    "bookie_to_check = Bookie.BOOKIE[7]  # bet365\n",
    "initial_balance = 10000\n",
    "stake_per_game = 10\n",
    "n_iteration = 100000\n",
    "n_bets = 1000"
   ]
  },
  {
   "cell_type": "code",
   "execution_count": null,
   "metadata": {},
   "outputs": [],
   "source": [
    "# ---- select the odds for bet365\n",
    "df_info_and_odds = df_info_and_odds[\n",
    "    df_info_and_odds[f\"{bookie_to_check}_1x2_active\"] == True\n",
    "]  # filter for only active odds for selected bookie\n",
    "df_mc_set = df_info_and_odds[\n",
    "    [\n",
    "        \"winner_code_sofascore\",\n",
    "        f\"{bookie_to_check}_1x2_1_closed\",\n",
    "        f\"{bookie_to_check}_1x2_X_closed\",\n",
    "        f\"{bookie_to_check}_1x2_2_closed\",\n",
    "    ]\n",
    "].reset_index(drop=True)"
   ]
  },
  {
   "cell_type": "code",
   "execution_count": null,
   "metadata": {},
   "outputs": [],
   "source": [
    "df_mc_set.head(10)"
   ]
  },
  {
   "cell_type": "code",
   "execution_count": null,
   "metadata": {},
   "outputs": [],
   "source": [
    "# ---- preallocate the winnings and losses into new columns\n",
    "outcomes = [\"1\", \"X\", \"2\"]\n",
    "times = [\"closed\"]\n",
    "# negative stake for all columns\n",
    "for outcome in outcomes:\n",
    "    for time in times:\n",
    "        df_mc_set[f\"betwin{outcome}_{time}\"] = -stake_per_game\n",
    "# populate columns with winnings\n",
    "for outcome in outcomes:\n",
    "    for time in times:\n",
    "        odds_column = f\"{bookie_to_check}_1x2_{outcome}_{time}\"\n",
    "        win_condition = df_mc_set[\"winner_code_sofascore\"] == outcome\n",
    "        winnings = stake_per_game * (df_mc_set[odds_column] - 1)\n",
    "        df_mc_set.loc[win_condition, f\"betwin{outcome}_{time}\"] = winnings"
   ]
  },
  {
   "cell_type": "code",
   "execution_count": null,
   "metadata": {},
   "outputs": [],
   "source": [
    "# ---- Make numpy array from the winnings/losses\n",
    "arr_mc = df_mc_set[[\"betwin1_closed\", \"betwinX_closed\", \"betwin2_closed\"]].to_numpy()\n",
    "arr_mc.shape"
   ]
  },
  {
   "cell_type": "code",
   "execution_count": null,
   "metadata": {},
   "outputs": [],
   "source": [
    "df_mc_set.head(10)"
   ]
  },
  {
   "cell_type": "code",
   "execution_count": null,
   "metadata": {},
   "outputs": [],
   "source": [
    "# ---- Definition of random betting functions with numba to speed them up\n",
    "@jit(nopython=True)\n",
    "def select_random_row(data, num_rows):\n",
    "    N_rows = data.shape[0]\n",
    "    selected_rows = np.random.choice(N_rows, num_rows, replace=True)\n",
    "    return data[selected_rows, :]\n",
    "\n",
    "\n",
    "@jit(nopython=True)\n",
    "def select_random_col(data, num_cols):\n",
    "    N_rows = data.shape[0]\n",
    "    selected_elements = np.empty(N_rows)\n",
    "    selected_cols = np.random.choice(num_cols, N_rows, replace=True)\n",
    "    for row, col in enumerate(selected_cols):\n",
    "        selected_elements[row] = data[row, col]\n",
    "    return selected_elements\n",
    "\n",
    "\n",
    "@jit(nopython=True)\n",
    "def monte_carlo_sum(\n",
    "    data,\n",
    "    iteration: int = 10000,\n",
    "    batch: int = 1000,\n",
    "    cols: np.array = np.array([0, 1, 2]),\n",
    "):  # select from all three cols of the data\n",
    "    np.random.seed(12345)\n",
    "    profit_arr = np.empty(iteration)\n",
    "    for i in range(iteration):\n",
    "        row_arr = select_random_row(data, batch)\n",
    "        element_arr = select_random_col(\n",
    "            row_arr, cols\n",
    "        )  # not so random, can adjust to 0,1 or 2\n",
    "        profit = element_arr.sum()\n",
    "        profit_arr[i] = profit\n",
    "    return profit_arr"
   ]
  },
  {
   "cell_type": "code",
   "execution_count": null,
   "metadata": {},
   "outputs": [],
   "source": [
    "# ---- n_iterations profit of n_bets\n",
    "mc_profits = monte_carlo_sum(arr_mc, iteration=n_iteration, batch=n_bets)"
   ]
  },
  {
   "cell_type": "code",
   "execution_count": null,
   "metadata": {},
   "outputs": [],
   "source": [
    "# ---- Make a pandas df again to plot it easier\n",
    "df_mc = pd.DataFrame(mc_profits, columns=[\"Profit\"])\n",
    "profit_mean = df_mc[\"Profit\"].mean()"
   ]
  },
  {
   "cell_type": "code",
   "execution_count": null,
   "metadata": {},
   "outputs": [],
   "source": [
    "plotter = plotters.PlotBuilder()\n",
    "plotter.add_data(df_mc)\n",
    "plotter.add_xdata(df_mc.Profit)\n",
    "plotter.add_mark(so.Bars(), so.Hist(stat=\"probability\", binwidth=50))\n",
    "plotter.set_xlim((-3000, 3000))\n",
    "plotter.set_xtick(np.arange(-3000, 3000, 500))\n",
    "plotter.axes.set_xticklabels(plotter.axes.get_xticklabels(), rotation=90)\n",
    "plotter.set_xlabel(\"Mean Profit [$]\")\n",
    "plotter.set_ylabel(\"Probability [%]\")\n",
    "plotter.add_title(f\"Monte Carlo - Random Betting on 1x2 Outcomes\")\n",
    "plotter.axes.axvline(profit_mean, color=\"r\", linestyle=\"--\", linewidth=2)\n",
    "plotter.axes.text(\n",
    "    profit_mean,\n",
    "    plotter.axes.get_ylim()[1],\n",
    "    f\" Mean: {profit_mean:.2f}\",\n",
    "    color=\"r\",\n",
    "    ha=\"left\",\n",
    "    va=\"top\",\n",
    ")\n",
    "plotter.axes.text(\n",
    "    0.8,\n",
    "    0.95,\n",
    "    f\"Stake: {stake_per_game}$ per bet\\nBets: {n_bets} times\\nIterations: {n_iteration}\\nUnique Matches: {arr_mc.shape[0]}\",\n",
    "    transform=plotter.axes.transAxes,\n",
    "    fontsize=10,\n",
    "    verticalalignment=\"top\",\n",
    "    bbox=dict(boxstyle=\"round\", facecolor=\"white\", alpha=0.5),\n",
    ")"
   ]
  },
  {
   "cell_type": "markdown",
   "metadata": {},
   "source": [
    "We see that with random betting we lose on average 5.9%. So how long will it take that we very safe in the negative with random betting?"
   ]
  },
  {
   "cell_type": "code",
   "execution_count": null,
   "metadata": {},
   "outputs": [],
   "source": [
    "# ---- Get the timeseries array and worst, mid, best quantiles\n",
    "n_bets_ts = 4000\n",
    "timeseries_arr = np.empty([n_iteration, n_bets_ts])\n",
    "for i in range(n_iteration):\n",
    "    timeseries_balance = initial_balance + np.cumsum(\n",
    "        select_random_col(select_random_row(arr_mc, n_bets_ts), np.array([0, 1, 2]))\n",
    "    )\n",
    "    timeseries_arr[i] = timeseries_balance\n",
    "quantiles_arr = np.array([1, 50, 99])\n",
    "quantiles = np.percentile(\n",
    "    timeseries_arr, quantiles_arr, axis=0\n",
    ")  # get quantiles of all monte carlo experiments\n",
    "\n",
    "df_quantiles = pd.DataFrame(quantiles.T, columns=quantiles_arr.astype(str)).melt(\n",
    "    var_name=\"Quantile\", value_name=\"Balance\"\n",
    ")"
   ]
  },
  {
   "cell_type": "code",
   "execution_count": null,
   "metadata": {},
   "outputs": [],
   "source": [
    "plotter = plotters.PlotBuilder()\n",
    "plotter.add_data(df_quantiles)\n",
    "plotter.add_xdata(pd.Series(np.tile(np.arange(0, n_bets_ts, 1), len(quantiles_arr))))\n",
    "plotter.add_ydata(df_quantiles[\"Balance\"])\n",
    "plotter.add_mark(so.Line(), color=\"Quantile\")\n",
    "plotter.set_xlabel(\"Number of Bets\")\n",
    "plotter.set_ylabel(\"Balance\")\n",
    "plotter.add_title(f\"Monte Carlo Timeseries - Random Betting on 1x2 Outcomes\")\n",
    "plotter.axes.hlines(\n",
    "    y=initial_balance, color=\"r\", xmin=-200, xmax=n_bets_ts, linestyle=\"--\", linewidth=2\n",
    ")"
   ]
  },
  {
   "cell_type": "markdown",
   "metadata": {},
   "source": [
    "We see that after 3600 bets, so 3.6x our initial balance, we have less than a 1% chance to be positive with random betting."
   ]
  },
  {
   "cell_type": "markdown",
   "metadata": {},
   "source": [
    "Let us try an underdog betting strategy. We will only bet on games where the odds for the home team are higher than 1 in comparison to the away team but still lower than 10."
   ]
  },
  {
   "cell_type": "code",
   "execution_count": null,
   "metadata": {},
   "outputs": [],
   "source": [
    "arr_mc_underdog = df_mc_set.loc[\n",
    "    (\n",
    "        df_mc_set[f\"{bookie_to_check}_1x2_1_closed\"]\n",
    "        > df_mc_set[f\"{bookie_to_check}_1x2_2_closed\"] + 1\n",
    "    )\n",
    "    & (df_mc_set[f\"{bookie_to_check}_1x2_1_closed\"] < 10),\n",
    "    [\"betwin1_closed\", \"betwinX_closed\", \"betwin2_closed\"],\n",
    "].to_numpy()  # 1 odds higher than away win and no outliners over 10\n",
    "\n",
    "mc_profits1_underdog = monte_carlo_sum(\n",
    "    arr_mc_underdog,\n",
    "    iteration=100000,\n",
    "    batch=1000,\n",
    "    cols=np.array([0]),  # only bet on home win\n",
    ")\n",
    "df_mc_underdog = pd.DataFrame(mc_profits1_underdog, columns=[\"Profit\"])\n",
    "profit_mean_underdog = df_mc_underdog[\"Profit\"].mean()"
   ]
  },
  {
   "cell_type": "code",
   "execution_count": null,
   "metadata": {},
   "outputs": [],
   "source": [
    "plotter = plotters.PlotBuilder()\n",
    "plotter.add_data(df_mc_underdog)\n",
    "plotter.add_xdata(df_mc_underdog.Profit)\n",
    "plotter.add_mark(so.Bars(), so.Hist(stat=\"probability\", binwidth=50))\n",
    "plotter.set_xlim((-3000, 3000))\n",
    "plotter.set_xtick(np.arange(-3000, 3000, 500))\n",
    "plotter.axes.set_xticklabels(plotter.axes.get_xticklabels(), rotation=90)\n",
    "plotter.set_xlabel(\"Mean Profit [$]\")\n",
    "plotter.set_ylabel(\"Probability [%]\")\n",
    "plotter.add_title(f\"Monte Carlo - Underdog Betting on Home Win\")\n",
    "plotter.axes.axvline(profit_mean_underdog, color=\"r\", linestyle=\"--\", linewidth=2)\n",
    "plotter.axes.text(\n",
    "    profit_mean,\n",
    "    plotter.axes.get_ylim()[1],\n",
    "    f\" Mean: {profit_mean_underdog:.2f}\",\n",
    "    color=\"r\",\n",
    "    ha=\"left\",\n",
    "    va=\"top\",\n",
    ")\n",
    "plotter.axes.text(\n",
    "    0.8,\n",
    "    0.95,\n",
    "    f\"Stake: {stake_per_game}$ per bet\\nBets: {n_bets} times\\nIterations: {n_iteration}\\nUnique Matches: {arr_mc_underdog.shape[0]}\",\n",
    "    transform=plotter.axes.transAxes,\n",
    "    fontsize=10,\n",
    "    verticalalignment=\"top\",\n",
    "    bbox=dict(boxstyle=\"round\", facecolor=\"white\", alpha=0.5),\n",
    ")"
   ]
  },
  {
   "cell_type": "markdown",
   "metadata": {},
   "source": [
    "While we observe some profit, caution is advised before adopting an underdog strategy! Strategies evolve, as do the behaviors of both bettors and bookmakers. The higher odds imply a greater risk of bankruptcy, given that only a select few bets may result in a positive outcome. Additionally, this modest profit is specific to the particular bookmaker, leagues, and market examined. It's reasonable to suspect that such a strategy might not maintain its profitability moving forward."
   ]
  }
 ],
 "metadata": {
  "kernelspec": {
   "display_name": "ds",
   "language": "python",
   "name": "python3"
  },
  "language_info": {
   "codemirror_mode": {
    "name": "ipython",
    "version": 3
   },
   "file_extension": ".py",
   "mimetype": "text/x-python",
   "name": "python",
   "nbconvert_exporter": "python",
   "pygments_lexer": "ipython3",
   "version": "3.10.12"
  }
 },
 "nbformat": 4,
 "nbformat_minor": 2
}
